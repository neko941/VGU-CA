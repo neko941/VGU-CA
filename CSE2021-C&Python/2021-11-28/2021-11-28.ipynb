{
 "cells": [
  {
   "cell_type": "markdown",
   "id": "87d40aa8-b7f1-47bc-a56d-398cf8bcc8cd",
   "metadata": {},
   "source": [
    "# **LIST**"
   ]
  },
  {
   "cell_type": "markdown",
   "id": "e2264af4-a999-4793-a7c0-9304fc8cb117",
   "metadata": {},
   "source": [
    "## append()"
   ]
  },
  {
   "cell_type": "markdown",
   "id": "34c5c6e3-f522-4021-aee6-087e7524ebc1",
   "metadata": {},
   "source": [
    "### Syntax\n",
    "\n",
    "```python\n",
    "list.append(obj)\n",
    "```"
   ]
  },
  {
   "cell_type": "code",
   "execution_count": 3,
   "id": "52272f9e-632b-4e64-949c-21c683cdfc23",
   "metadata": {},
   "outputs": [
    {
     "data": {
      "text/plain": [
       "[1, 2, 3, 4]"
      ]
     },
     "execution_count": 3,
     "metadata": {},
     "output_type": "execute_result"
    }
   ],
   "source": [
    "a = [1, 2, 3, 4]\n",
    "a"
   ]
  },
  {
   "cell_type": "code",
   "execution_count": 4,
   "id": "6b946214-f13e-4f27-9e83-7ccf7ab71ab1",
   "metadata": {},
   "outputs": [
    {
     "data": {
      "text/plain": [
       "[1, 2, 3, 4, [1, 9]]"
      ]
     },
     "execution_count": 4,
     "metadata": {},
     "output_type": "execute_result"
    }
   ],
   "source": [
    "a.append([1, 9])\n",
    "a"
   ]
  },
  {
   "cell_type": "code",
   "execution_count": 5,
   "id": "7f416963-1b6c-455e-8d21-4ca7f81a1060",
   "metadata": {},
   "outputs": [
    {
     "data": {
      "text/plain": [
       "[1, 2, 3, 4, [1, 9], 'a_string']"
      ]
     },
     "execution_count": 5,
     "metadata": {},
     "output_type": "execute_result"
    }
   ],
   "source": [
    "a.append(\"a_string\")\n",
    "a"
   ]
  },
  {
   "cell_type": "code",
   "execution_count": 7,
   "id": "3d4b779c-a98c-4a71-a9bb-eb8d12afedd6",
   "metadata": {},
   "outputs": [
    {
     "data": {
      "text/plain": [
       "[1, 2, 3, 4, [1, 9], 'a_string', 0.89]"
      ]
     },
     "execution_count": 7,
     "metadata": {},
     "output_type": "execute_result"
    }
   ],
   "source": [
    "a.append(0.89)\n",
    "a"
   ]
  },
  {
   "cell_type": "code",
   "execution_count": 8,
   "id": "f16b429c-aeff-49cd-bed1-dee11c5d1238",
   "metadata": {},
   "outputs": [
    {
     "ename": "TypeError",
     "evalue": "append() takes exactly one argument (2 given)",
     "output_type": "error",
     "traceback": [
      "\u001b[1;31m---------------------------------------------------------------------------\u001b[0m",
      "\u001b[1;31mTypeError\u001b[0m                                 Traceback (most recent call last)",
      "\u001b[1;32m<ipython-input-8-57b00b51837e>\u001b[0m in \u001b[0;36m<module>\u001b[1;34m\u001b[0m\n\u001b[1;32m----> 1\u001b[1;33m \u001b[0ma\u001b[0m\u001b[1;33m.\u001b[0m\u001b[0mappend\u001b[0m\u001b[1;33m(\u001b[0m\u001b[1;36m0\u001b[0m\u001b[1;33m,\u001b[0m \u001b[1;36m89\u001b[0m\u001b[1;33m)\u001b[0m\u001b[1;33m\u001b[0m\u001b[1;33m\u001b[0m\u001b[0m\n\u001b[0m",
      "\u001b[1;31mTypeError\u001b[0m: append() takes exactly one argument (2 given)"
     ]
    }
   ],
   "source": [
    "a.append(0, 89)"
   ]
  },
  {
   "cell_type": "markdown",
   "id": "47143fb6-c825-4ed6-9be4-4ab32dbb78f9",
   "metadata": {},
   "source": [
    "## extend()"
   ]
  },
  {
   "cell_type": "markdown",
   "id": "c946fe46-ae2c-4add-8708-bb8570bf1bdb",
   "metadata": {},
   "source": [
    "### Syntax\n",
    "```python\n",
    "list.extend(sequence)\n",
    "```"
   ]
  },
  {
   "cell_type": "code",
   "execution_count": 33,
   "id": "459fbc61-ee25-4105-b6aa-68ed7c019bb3",
   "metadata": {},
   "outputs": [
    {
     "name": "stdout",
     "output_type": "stream",
     "text": [
      "[1, 2, 3, 4, [1, 9], 'a_string', 0.89, 2, 2, 2, 2, 3, 3]\n",
      "[2, 2, 2, 2, 3, 3]\n"
     ]
    }
   ],
   "source": [
    "a = [1, 2, 3, 4, [1, 9], 'a_string', 0.89]\n",
    "b = [2, 2, 2, 2, 3, 3]\n",
    "\n",
    "a.extend(b)\n",
    "print(a)\n",
    "print(b)"
   ]
  },
  {
   "cell_type": "code",
   "execution_count": 34,
   "id": "c9b3cb08-3e14-4ead-98f7-3975e70386a3",
   "metadata": {},
   "outputs": [
    {
     "name": "stdout",
     "output_type": "stream",
     "text": [
      "[1, 2, 3, 4, [1, 9], 'a_string', 0.89]\n",
      "[2, 2, 2, 2, 3, 3, 1, 2, 3, 4, [1, 9], 'a_string', 0.89]\n"
     ]
    }
   ],
   "source": [
    "a = [1, 2, 3, 4, [1, 9], 'a_string', 0.89]\n",
    "b = [2, 2, 2, 2, 3, 3]\n",
    "\n",
    "b.extend(a)\n",
    "print(a)\n",
    "print(b)"
   ]
  },
  {
   "cell_type": "markdown",
   "id": "0d2ccb00-0098-424d-8e1c-d71ae26c5f58",
   "metadata": {},
   "source": [
    "## pop()"
   ]
  },
  {
   "cell_type": "markdown",
   "id": "d8b06497-604e-4c9c-b7b2-108bc266f1cb",
   "metadata": {},
   "source": [
    "### Syntax\n",
    "\n",
    "```python\n",
    "list.pop(obj = list[-1])\n",
    "```"
   ]
  },
  {
   "cell_type": "code",
   "execution_count": 1,
   "id": "990d124d-1672-488d-94c1-25d5f2b13a19",
   "metadata": {},
   "outputs": [
    {
     "data": {
      "text/plain": [
       "[1, 2, 3, 4, [1, 9], 'a_string', 0.89]"
      ]
     },
     "execution_count": 1,
     "metadata": {},
     "output_type": "execute_result"
    }
   ],
   "source": [
    "a = [1, 2, 3, 4, [1, 9], 'a_string', 0.89]\n",
    "a"
   ]
  },
  {
   "cell_type": "code",
   "execution_count": 2,
   "id": "73b2bdaa-8134-4a82-bb7c-3d7e27158935",
   "metadata": {},
   "outputs": [
    {
     "data": {
      "text/plain": [
       "[1, 2, 3, 4, [1, 9], 'a_string']"
      ]
     },
     "execution_count": 2,
     "metadata": {},
     "output_type": "execute_result"
    }
   ],
   "source": [
    "a.pop()\n",
    "a"
   ]
  },
  {
   "cell_type": "code",
   "execution_count": 3,
   "id": "27be4da4-d9a3-4f62-8577-752f5466cdea",
   "metadata": {},
   "outputs": [
    {
     "data": {
      "text/plain": [
       "[1, 2, 3, 4, [1, 9]]"
      ]
     },
     "execution_count": 3,
     "metadata": {},
     "output_type": "execute_result"
    }
   ],
   "source": [
    "a.pop()\n",
    "a"
   ]
  },
  {
   "cell_type": "code",
   "execution_count": 4,
   "id": "a163fc1f-b731-4dc6-ad27-c22f89536520",
   "metadata": {},
   "outputs": [
    {
     "data": {
      "text/plain": [
       "[1, 2, 3, 4]"
      ]
     },
     "execution_count": 4,
     "metadata": {},
     "output_type": "execute_result"
    }
   ],
   "source": [
    "a.pop()\n",
    "a"
   ]
  },
  {
   "cell_type": "code",
   "execution_count": 5,
   "id": "d2bdbf38-0e02-4c5f-83a0-cd96c63134b0",
   "metadata": {},
   "outputs": [
    {
     "data": {
      "text/plain": [
       "[1, 2, 3]"
      ]
     },
     "execution_count": 5,
     "metadata": {},
     "output_type": "execute_result"
    }
   ],
   "source": [
    "a = a[:-1]\n",
    "a"
   ]
  },
  {
   "cell_type": "markdown",
   "id": "2c15d0c0-555a-4a85-a4bc-b75c31d2009b",
   "metadata": {},
   "source": [
    "## remove()"
   ]
  },
  {
   "cell_type": "markdown",
   "id": "3aecbe22-36a7-453f-878a-5d53f016d44e",
   "metadata": {},
   "source": [
    "### Syntax\n",
    "```python\n",
    "list.remove(obj)\n",
    "```"
   ]
  },
  {
   "cell_type": "code",
   "execution_count": 22,
   "id": "db3e5f44-2db0-4af4-9fce-0cfa27bc0221",
   "metadata": {},
   "outputs": [
    {
     "data": {
      "text/plain": [
       "[1, 2, 3, 4, [1, 9], 'a_string', 0.89]"
      ]
     },
     "execution_count": 22,
     "metadata": {},
     "output_type": "execute_result"
    }
   ],
   "source": [
    "a = [1, 2, 3, 4, [1, 9], 'a_string', 0.89]\n",
    "a"
   ]
  },
  {
   "cell_type": "code",
   "execution_count": 23,
   "id": "8a73e4a2-8068-41ef-9735-f2cf88d2df63",
   "metadata": {},
   "outputs": [
    {
     "data": {
      "text/plain": [
       "[1, 3, 4, [1, 9], 'a_string', 0.89]"
      ]
     },
     "execution_count": 23,
     "metadata": {},
     "output_type": "execute_result"
    }
   ],
   "source": [
    "a.remove(2)\n",
    "a"
   ]
  },
  {
   "cell_type": "code",
   "execution_count": 24,
   "id": "87d08b0d-d018-426f-9ee6-62e34dd2033e",
   "metadata": {},
   "outputs": [
    {
     "data": {
      "text/plain": [
       "[1, 3, 4, 'a_string', 0.89]"
      ]
     },
     "execution_count": 24,
     "metadata": {},
     "output_type": "execute_result"
    }
   ],
   "source": [
    "a.remove([1, 9])\n",
    "a"
   ]
  },
  {
   "cell_type": "code",
   "execution_count": 10,
   "id": "fce6c8db-9693-462a-b8cd-edf4f996153a",
   "metadata": {},
   "outputs": [
    {
     "data": {
      "text/plain": [
       "[1, 3, 4, 0.89]"
      ]
     },
     "execution_count": 10,
     "metadata": {},
     "output_type": "execute_result"
    }
   ],
   "source": [
    "a.remove(\"a_string\")\n",
    "a"
   ]
  },
  {
   "cell_type": "code",
   "execution_count": 69,
   "id": "2e0c8983-3b18-40e2-aa77-e5db876f9227",
   "metadata": {},
   "outputs": [
    {
     "name": "stdout",
     "output_type": "stream",
     "text": [
      "[1, 2, 3, 4, [1, 9], 'a_string', 0.89, 2, 2, 2, 2, 3, 3]\n",
      "[1, 3, 4, [1, 9], 'a_string', 0.89, 3, 3]\n"
     ]
    }
   ],
   "source": [
    "a = [1, 2, 3, 4, [1, 9], 'a_string', 0.89]\n",
    "b = [2, 2, 2, 2, 3, 3]\n",
    "\n",
    "a.extend(b)\n",
    "print(a)\n",
    "\n",
    "while 2 in a:\n",
    "    a.remove(2)\n",
    "print(a)"
   ]
  },
  {
   "cell_type": "code",
   "execution_count": 71,
   "id": "b27a5b7a-2cd3-4bae-bad8-ef4687344e44",
   "metadata": {},
   "outputs": [
    {
     "name": "stdout",
     "output_type": "stream",
     "text": [
      "[1, 2, 3, 4, [1, 9], 'a_string', 0.89, 2, 2, 2, 2, 3, 3]\n"
     ]
    },
    {
     "data": {
      "text/plain": [
       "[1, 3, 4, [1, 9], 'a_string', 0.89, 3, 3]"
      ]
     },
     "execution_count": 71,
     "metadata": {},
     "output_type": "execute_result"
    }
   ],
   "source": [
    "a = [1, 2, 3, 4, [1, 9], 'a_string', 0.89]\n",
    "b = [2, 2, 2, 2, 3, 3]\n",
    "\n",
    "a.extend(b)\n",
    "print(a)\n",
    "\n",
    "[value for value in a if value != 2]"
   ]
  },
  {
   "cell_type": "markdown",
   "id": "a00da688-3add-4f47-872c-781f12b34a0a",
   "metadata": {},
   "source": [
    "## del()"
   ]
  },
  {
   "cell_type": "markdown",
   "id": "41005f7f-0769-4761-953e-b7b8ee42826a",
   "metadata": {},
   "source": [
    "### Syntax\n",
    "```python\n",
    "del(obj)\n",
    "```"
   ]
  },
  {
   "cell_type": "code",
   "execution_count": 25,
   "id": "aa8ce8bb-b9b0-402b-b506-d65d692c1fc7",
   "metadata": {},
   "outputs": [
    {
     "data": {
      "text/plain": [
       "[1, 2, 3, 4, [1, 9], 'a_string', 0.89]"
      ]
     },
     "execution_count": 25,
     "metadata": {},
     "output_type": "execute_result"
    }
   ],
   "source": [
    "a = [1, 2, 3, 4, [1, 9], 'a_string', 0.89]\n",
    "a"
   ]
  },
  {
   "cell_type": "code",
   "execution_count": 26,
   "id": "ec786657-846b-4e99-942b-89ab4f8b71ce",
   "metadata": {},
   "outputs": [
    {
     "data": {
      "text/plain": [
       "[1, 2, 4, [1, 9], 'a_string', 0.89]"
      ]
     },
     "execution_count": 26,
     "metadata": {},
     "output_type": "execute_result"
    }
   ],
   "source": [
    "del(a[2])\n",
    "a"
   ]
  },
  {
   "cell_type": "code",
   "execution_count": 18,
   "id": "87d6a36f-3352-4b57-a999-415d918fb4f1",
   "metadata": {},
   "outputs": [
    {
     "data": {
      "text/plain": [
       "[1, 2, 4, [1, 9], 0.89]"
      ]
     },
     "execution_count": 18,
     "metadata": {},
     "output_type": "execute_result"
    }
   ],
   "source": [
    "del(a[4])\n",
    "a"
   ]
  },
  {
   "cell_type": "code",
   "execution_count": 19,
   "id": "5cbecc80-c234-4055-84fc-d1390857d890",
   "metadata": {},
   "outputs": [
    {
     "ename": "NameError",
     "evalue": "name 'a' is not defined",
     "output_type": "error",
     "traceback": [
      "\u001b[1;31m---------------------------------------------------------------------------\u001b[0m",
      "\u001b[1;31mNameError\u001b[0m                                 Traceback (most recent call last)",
      "\u001b[1;32m<ipython-input-19-9fb8600323e4>\u001b[0m in \u001b[0;36m<module>\u001b[1;34m\u001b[0m\n\u001b[0;32m      1\u001b[0m \u001b[1;32mdel\u001b[0m\u001b[1;33m(\u001b[0m\u001b[0ma\u001b[0m\u001b[1;33m)\u001b[0m\u001b[1;33m\u001b[0m\u001b[1;33m\u001b[0m\u001b[0m\n\u001b[1;32m----> 2\u001b[1;33m \u001b[0ma\u001b[0m\u001b[1;33m\u001b[0m\u001b[1;33m\u001b[0m\u001b[0m\n\u001b[0m",
      "\u001b[1;31mNameError\u001b[0m: name 'a' is not defined"
     ]
    }
   ],
   "source": [
    "del(a)\n",
    "a"
   ]
  },
  {
   "cell_type": "code",
   "execution_count": 27,
   "id": "97756c58-ddd5-4ed2-ad88-239d83b93866",
   "metadata": {},
   "outputs": [
    {
     "data": {
      "text/plain": [
       "[1, 2, 4, 'a_string']"
      ]
     },
     "execution_count": 27,
     "metadata": {},
     "output_type": "execute_result"
    }
   ],
   "source": [
    "a = [1, 2, 3, 4, [1, 9], 'a_string', 0.89]\n",
    "del(a[2:7:2])\n",
    "a"
   ]
  },
  {
   "cell_type": "markdown",
   "id": "59f1c23d-64d7-4ded-80ba-c8b17a0bf848",
   "metadata": {},
   "source": [
    "## count()"
   ]
  },
  {
   "cell_type": "markdown",
   "id": "41929fe5-9ead-4303-ad93-05d18a287886",
   "metadata": {},
   "source": [
    "### Syntax\n",
    "```python\n",
    "list.count(obj)\n",
    "```"
   ]
  },
  {
   "cell_type": "code",
   "execution_count": 35,
   "id": "e2af1c17-7f6b-427d-8175-4201cbdbca01",
   "metadata": {},
   "outputs": [
    {
     "data": {
      "text/plain": [
       "[1, 2, 3, 4, [1, 9], 'a_string', 0.89, 2, 2, 2, 2, 3, 3]"
      ]
     },
     "execution_count": 35,
     "metadata": {},
     "output_type": "execute_result"
    }
   ],
   "source": [
    "a = [1, 2, 3, 4, [1, 9], 'a_string', 0.89]\n",
    "b = [2, 2, 2, 2, 3, 3]\n",
    "\n",
    "a.extend(b)\n",
    "a"
   ]
  },
  {
   "cell_type": "code",
   "execution_count": 36,
   "id": "f29630f5-3d8b-4cbe-860b-739d1645ce7f",
   "metadata": {},
   "outputs": [
    {
     "data": {
      "text/plain": [
       "5"
      ]
     },
     "execution_count": 36,
     "metadata": {},
     "output_type": "execute_result"
    }
   ],
   "source": [
    "a.count(2)"
   ]
  },
  {
   "cell_type": "code",
   "execution_count": 37,
   "id": "4b56565b-185a-4775-89f0-d80550402af5",
   "metadata": {},
   "outputs": [
    {
     "data": {
      "text/plain": [
       "3"
      ]
     },
     "execution_count": 37,
     "metadata": {},
     "output_type": "execute_result"
    }
   ],
   "source": [
    "a.count(3)"
   ]
  },
  {
   "cell_type": "code",
   "execution_count": 38,
   "id": "a0094604-5429-4156-8c77-7754ce4be347",
   "metadata": {},
   "outputs": [
    {
     "data": {
      "text/plain": [
       "1"
      ]
     },
     "execution_count": 38,
     "metadata": {},
     "output_type": "execute_result"
    }
   ],
   "source": [
    "a.count(\"a_string\")"
   ]
  },
  {
   "cell_type": "markdown",
   "id": "6c52e7cb-53d7-4cca-b8b3-eb2cf30ade23",
   "metadata": {},
   "source": [
    "## index()"
   ]
  },
  {
   "cell_type": "markdown",
   "id": "eedd5105-bd6b-4e4a-9b7d-79fd4bef61a0",
   "metadata": {},
   "source": [
    "### Syntax\n",
    "```python\n",
    "list.index(obj)\n",
    "```"
   ]
  },
  {
   "cell_type": "code",
   "execution_count": 42,
   "id": "46f01ed4-11b3-49d0-a1cb-13d6d0cc232c",
   "metadata": {},
   "outputs": [
    {
     "data": {
      "text/plain": [
       "[1, 2, 3, 4, [1, 9], 'a_string', 0.89, 2, 2, 2, 2, 3, 3]"
      ]
     },
     "execution_count": 42,
     "metadata": {},
     "output_type": "execute_result"
    }
   ],
   "source": [
    "a = [1, 2, 3, 4, [1, 9], 'a_string', 0.89]\n",
    "b = [2, 2, 2, 2, 3, 3]\n",
    "\n",
    "a.extend(b)\n",
    "a"
   ]
  },
  {
   "cell_type": "code",
   "execution_count": 61,
   "id": "771fe679-1349-4720-a1c2-850c5b8e956d",
   "metadata": {},
   "outputs": [
    {
     "data": {
      "text/plain": [
       "4"
      ]
     },
     "execution_count": 61,
     "metadata": {},
     "output_type": "execute_result"
    }
   ],
   "source": [
    "a.index([1, 9])"
   ]
  },
  {
   "cell_type": "code",
   "execution_count": 43,
   "id": "04f00390-7d3a-4b1f-aa5b-00d591d1e449",
   "metadata": {},
   "outputs": [
    {
     "data": {
      "text/plain": [
       "1"
      ]
     },
     "execution_count": 43,
     "metadata": {},
     "output_type": "execute_result"
    }
   ],
   "source": [
    "a.index(2)"
   ]
  },
  {
   "cell_type": "code",
   "execution_count": 52,
   "id": "b37bac60-144b-44e4-9faa-cb20796d0585",
   "metadata": {},
   "outputs": [
    {
     "name": "stdout",
     "output_type": "stream",
     "text": [
      "0 1\n",
      "1 2\n",
      "2 3\n",
      "3 4\n",
      "4 [1, 9]\n",
      "5 a_string\n",
      "6 0.89\n",
      "7 2\n",
      "8 2\n",
      "9 2\n",
      "10 2\n",
      "11 3\n",
      "12 3\n"
     ]
    }
   ],
   "source": [
    "for index, element in enumerate(a):\n",
    "    print(index, element)"
   ]
  },
  {
   "cell_type": "code",
   "execution_count": 57,
   "id": "4f3b4817-45c5-4291-a379-3aa6e27464ad",
   "metadata": {},
   "outputs": [
    {
     "name": "stdout",
     "output_type": "stream",
     "text": [
      "1\t7\t8\t9\t10\t"
     ]
    }
   ],
   "source": [
    "for index, element in enumerate(a):\n",
    "    if element == 2:\n",
    "        print(index, end=\"\\t\")"
   ]
  },
  {
   "cell_type": "code",
   "execution_count": 59,
   "id": "0f43783c-f792-47a8-891f-72cebf806214",
   "metadata": {},
   "outputs": [
    {
     "data": {
      "text/plain": [
       "[1, 7, 8, 9, 10]"
      ]
     },
     "execution_count": 59,
     "metadata": {},
     "output_type": "execute_result"
    }
   ],
   "source": [
    "[index for index, element in enumerate(a) if element == 2]"
   ]
  },
  {
   "cell_type": "code",
   "execution_count": 60,
   "id": "496e5ef2-35c9-48fe-9bf1-637dd8430c72",
   "metadata": {},
   "outputs": [
    {
     "ename": "SyntaxError",
     "evalue": "invalid syntax (<ipython-input-60-c047d21c1472>, line 1)",
     "output_type": "error",
     "traceback": [
      "\u001b[1;36m  File \u001b[1;32m\"<ipython-input-60-c047d21c1472>\"\u001b[1;36m, line \u001b[1;32m1\u001b[0m\n\u001b[1;33m    index for index, element in enumerate(a) if element == 2\u001b[0m\n\u001b[1;37m          ^\u001b[0m\n\u001b[1;31mSyntaxError\u001b[0m\u001b[1;31m:\u001b[0m invalid syntax\n"
     ]
    }
   ],
   "source": [
    "index for index, element in enumerate(a) if element == 2"
   ]
  },
  {
   "cell_type": "markdown",
   "id": "5023820b-a9a6-4cad-9f62-a1fc1064890c",
   "metadata": {},
   "source": [
    "## insert()"
   ]
  },
  {
   "cell_type": "markdown",
   "id": "12ebeab0-80f7-46bd-8d8b-bc0e2251261f",
   "metadata": {},
   "source": [
    "### Syntax\n",
    "```python\n",
    "list.insert(index, obj)\n",
    "```"
   ]
  },
  {
   "cell_type": "code",
   "execution_count": 73,
   "id": "6aad96c6-b857-4ea7-b577-fe318c51d689",
   "metadata": {},
   "outputs": [
    {
     "data": {
      "text/plain": [
       "[1, 2, 3, 4, [1, 9], 'a_string', 0.89]"
      ]
     },
     "execution_count": 73,
     "metadata": {},
     "output_type": "execute_result"
    }
   ],
   "source": [
    "a = [1, 2, 3, 4, [1, 9], 'a_string', 0.89]\n",
    "a"
   ]
  },
  {
   "cell_type": "code",
   "execution_count": 74,
   "id": "737054e7-afba-4b77-8ad9-cd5f291a8122",
   "metadata": {},
   "outputs": [
    {
     "data": {
      "text/plain": [
       "[1, 2, 3, 2001, 4, [1, 9], 'a_string', 0.89]"
      ]
     },
     "execution_count": 74,
     "metadata": {},
     "output_type": "execute_result"
    }
   ],
   "source": [
    "a.insert(3, 2001)\n",
    "a"
   ]
  },
  {
   "cell_type": "code",
   "execution_count": 75,
   "id": "ca285578-facc-4162-8dce-295eeee54482",
   "metadata": {},
   "outputs": [
    {
     "data": {
      "text/plain": [
       "[1, 2, 3, 2001, 4, [1, 9], 'a_string', 2001, 0.89]"
      ]
     },
     "execution_count": 75,
     "metadata": {},
     "output_type": "execute_result"
    }
   ],
   "source": [
    "a.insert(7, 2001)\n",
    "a"
   ]
  },
  {
   "cell_type": "markdown",
   "id": "f7d12dcf-8e0b-4b71-9749-06548f7c9192",
   "metadata": {},
   "source": [
    "## sort()"
   ]
  },
  {
   "cell_type": "markdown",
   "id": "38e61f37-73f2-42ea-b469-99e82f38b1c4",
   "metadata": {},
   "source": [
    "### Syntax\n",
    "```python\n",
    "list.sort()\n",
    "```"
   ]
  },
  {
   "cell_type": "code",
   "execution_count": 100,
   "id": "ecfe57e3-5112-41a4-bcfd-25f1d56d56d1",
   "metadata": {},
   "outputs": [
    {
     "data": {
      "text/plain": [
       "[3, 2, 1, 4, [1, 9], 'a_string', 0.89, 2, 2, 2, 2, 3, 3]"
      ]
     },
     "execution_count": 100,
     "metadata": {},
     "output_type": "execute_result"
    }
   ],
   "source": [
    "a = [3, 2, 1, 4, [1, 9], 'a_string', 0.89]\n",
    "b = [2, 2, 2, 2, 3, 3]\n",
    "\n",
    "a.extend(b)\n",
    "a"
   ]
  },
  {
   "cell_type": "code",
   "execution_count": 101,
   "id": "c64be86c-65cf-4e50-a0ae-0f0b1850fcce",
   "metadata": {},
   "outputs": [
    {
     "ename": "TypeError",
     "evalue": "'<' not supported between instances of 'list' and 'int'",
     "output_type": "error",
     "traceback": [
      "\u001b[1;31m---------------------------------------------------------------------------\u001b[0m",
      "\u001b[1;31mTypeError\u001b[0m                                 Traceback (most recent call last)",
      "\u001b[1;32m<ipython-input-101-3ce1b49a4cfa>\u001b[0m in \u001b[0;36m<module>\u001b[1;34m\u001b[0m\n\u001b[1;32m----> 1\u001b[1;33m \u001b[0ma\u001b[0m\u001b[1;33m.\u001b[0m\u001b[0msort\u001b[0m\u001b[1;33m(\u001b[0m\u001b[1;33m)\u001b[0m\u001b[1;33m\u001b[0m\u001b[1;33m\u001b[0m\u001b[0m\n\u001b[0m\u001b[0;32m      2\u001b[0m \u001b[0ma\u001b[0m\u001b[1;33m\u001b[0m\u001b[1;33m\u001b[0m\u001b[0m\n",
      "\u001b[1;31mTypeError\u001b[0m: '<' not supported between instances of 'list' and 'int'"
     ]
    }
   ],
   "source": [
    "a.sort()\n",
    "a"
   ]
  },
  {
   "cell_type": "code",
   "execution_count": 102,
   "id": "2d0642c5-f354-4d03-90a8-be78f04a3bf8",
   "metadata": {},
   "outputs": [
    {
     "data": {
      "text/plain": [
       "[1, 2, 3, 4, [1, 9], 'a_string', 0.89, 2, 2, 2, 2, 3, 3]"
      ]
     },
     "execution_count": 102,
     "metadata": {},
     "output_type": "execute_result"
    }
   ],
   "source": [
    "a[:3].sort()\n",
    "a"
   ]
  },
  {
   "cell_type": "markdown",
   "id": "8410b496-422a-46e0-89c1-017761f541b4",
   "metadata": {},
   "source": [
    "## reverse()"
   ]
  },
  {
   "cell_type": "markdown",
   "id": "cc8879d9-4eff-4894-9384-18022e89e79a",
   "metadata": {},
   "source": [
    "### Syntax\n",
    "```python\n",
    "list.reverse()\n",
    "```"
   ]
  },
  {
   "cell_type": "code",
   "execution_count": 86,
   "id": "296155e0-5e65-4a87-b652-09eb16311582",
   "metadata": {},
   "outputs": [
    {
     "data": {
      "text/plain": [
       "[1, 2, 3, 4, [1, 9], 'a_string', 0.89, 2, 2, 2, 2, 3, 3]"
      ]
     },
     "execution_count": 86,
     "metadata": {},
     "output_type": "execute_result"
    }
   ],
   "source": [
    "a = [1, 2, 3, 4, [1, 9], 'a_string', 0.89]\n",
    "b = [2, 2, 2, 2, 3, 3]\n",
    "\n",
    "a.extend(b)\n",
    "a"
   ]
  },
  {
   "cell_type": "code",
   "execution_count": 87,
   "id": "1b805227-174b-4e3a-bc01-5a5bbf7675be",
   "metadata": {},
   "outputs": [
    {
     "data": {
      "text/plain": [
       "[3, 3, 2, 2, 2, 2, 0.89, 'a_string', [1, 9], 4, 3, 2, 1]"
      ]
     },
     "execution_count": 87,
     "metadata": {},
     "output_type": "execute_result"
    }
   ],
   "source": [
    "a.reverse()\n",
    "a"
   ]
  },
  {
   "cell_type": "markdown",
   "id": "424c765c-f9cc-4535-bbb6-ab821fca50da",
   "metadata": {},
   "source": [
    "## len()"
   ]
  },
  {
   "cell_type": "markdown",
   "id": "97d48aad-8729-4f23-8c13-cc6d8fadeb1c",
   "metadata": {},
   "source": [
    "### Syntax\n",
    "```python\n",
    "len(list)\n",
    "```"
   ]
  },
  {
   "cell_type": "code",
   "execution_count": 88,
   "id": "f5fdbb89-39bc-4dcd-9627-834d2e8c1e5b",
   "metadata": {},
   "outputs": [
    {
     "data": {
      "text/plain": [
       "7"
      ]
     },
     "execution_count": 88,
     "metadata": {},
     "output_type": "execute_result"
    }
   ],
   "source": [
    "a = [1, 2, 3, 4, [1, 9], 'a_string', 0.89]\n",
    "len(a)"
   ]
  },
  {
   "cell_type": "code",
   "execution_count": 89,
   "id": "3c8abdf4-c695-48c1-9084-a2ec7030143b",
   "metadata": {},
   "outputs": [
    {
     "data": {
      "text/plain": [
       "6"
      ]
     },
     "execution_count": 89,
     "metadata": {},
     "output_type": "execute_result"
    }
   ],
   "source": [
    "b = [2, 2, 2, 2, 3, 3]\n",
    "len(b)"
   ]
  },
  {
   "cell_type": "code",
   "execution_count": 91,
   "id": "9a68b73a-4552-4021-91bd-8bfcb6556889",
   "metadata": {},
   "outputs": [
    {
     "data": {
      "text/plain": [
       "13"
      ]
     },
     "execution_count": 91,
     "metadata": {},
     "output_type": "execute_result"
    }
   ],
   "source": [
    "a = [1, 2, 3, 4, [1, 9], 'a_string', 0.89]\n",
    "b = [2, 2, 2, 2, 3, 3]\n",
    "\n",
    "a.extend(b)\n",
    "len(a)"
   ]
  },
  {
   "cell_type": "markdown",
   "id": "0ae51fdf-10a5-4b39-b6f4-1d6bda108bfb",
   "metadata": {},
   "source": [
    "## max()"
   ]
  },
  {
   "cell_type": "markdown",
   "id": "ecc3ca0a-7cb8-45f4-aeaf-1b63a2732580",
   "metadata": {},
   "source": [
    "### Syntax\n",
    "```python\n",
    "max(list)\n",
    "```"
   ]
  },
  {
   "cell_type": "code",
   "execution_count": 95,
   "id": "c4366983-ba81-4e29-bdf2-02d761a4a564",
   "metadata": {},
   "outputs": [
    {
     "ename": "TypeError",
     "evalue": "'>' not supported between instances of 'str' and 'int'",
     "output_type": "error",
     "traceback": [
      "\u001b[1;31m---------------------------------------------------------------------------\u001b[0m",
      "\u001b[1;31mTypeError\u001b[0m                                 Traceback (most recent call last)",
      "\u001b[1;32m<ipython-input-95-31f7a787738c>\u001b[0m in \u001b[0;36m<module>\u001b[1;34m\u001b[0m\n\u001b[0;32m      1\u001b[0m \u001b[0ma\u001b[0m \u001b[1;33m=\u001b[0m \u001b[1;33m[\u001b[0m\u001b[1;36m1\u001b[0m\u001b[1;33m,\u001b[0m \u001b[1;36m2\u001b[0m\u001b[1;33m,\u001b[0m \u001b[1;36m3\u001b[0m\u001b[1;33m,\u001b[0m \u001b[1;36m4\u001b[0m\u001b[1;33m,\u001b[0m \u001b[1;34m'a_string'\u001b[0m\u001b[1;33m,\u001b[0m \u001b[1;36m0.89\u001b[0m\u001b[1;33m]\u001b[0m\u001b[1;33m\u001b[0m\u001b[1;33m\u001b[0m\u001b[0m\n\u001b[1;32m----> 2\u001b[1;33m \u001b[0mmax\u001b[0m\u001b[1;33m(\u001b[0m\u001b[0ma\u001b[0m\u001b[1;33m)\u001b[0m\u001b[1;33m\u001b[0m\u001b[1;33m\u001b[0m\u001b[0m\n\u001b[0m",
      "\u001b[1;31mTypeError\u001b[0m: '>' not supported between instances of 'str' and 'int'"
     ]
    }
   ],
   "source": [
    "a = [1, 2, 3, 4, [1, 9], 'a_string', 0.89]\n",
    "max(a)"
   ]
  },
  {
   "cell_type": "code",
   "execution_count": 94,
   "id": "f436d43e-9093-4e3d-b918-d4d8014514be",
   "metadata": {},
   "outputs": [
    {
     "data": {
      "text/plain": [
       "3"
      ]
     },
     "execution_count": 94,
     "metadata": {},
     "output_type": "execute_result"
    }
   ],
   "source": [
    "b = [2, 2, 2, 2, 3, 3]\n",
    "max(b)"
   ]
  },
  {
   "cell_type": "markdown",
   "id": "1c206abf-08e8-41f6-92fb-8ad495920e74",
   "metadata": {},
   "source": [
    "## min()"
   ]
  },
  {
   "cell_type": "markdown",
   "id": "a115f075-0a82-499d-8f68-b6fbd4d46b1f",
   "metadata": {},
   "source": [
    "### Syntax\n",
    "```python\n",
    "min(list)\n",
    "```"
   ]
  },
  {
   "cell_type": "code",
   "execution_count": 96,
   "id": "12ae61e6-0af8-448f-bc80-bb3da38f9a1d",
   "metadata": {},
   "outputs": [
    {
     "ename": "TypeError",
     "evalue": "'<' not supported between instances of 'list' and 'int'",
     "output_type": "error",
     "traceback": [
      "\u001b[1;31m---------------------------------------------------------------------------\u001b[0m",
      "\u001b[1;31mTypeError\u001b[0m                                 Traceback (most recent call last)",
      "\u001b[1;32m<ipython-input-96-db35ffcea3cf>\u001b[0m in \u001b[0;36m<module>\u001b[1;34m\u001b[0m\n\u001b[0;32m      1\u001b[0m \u001b[0ma\u001b[0m \u001b[1;33m=\u001b[0m \u001b[1;33m[\u001b[0m\u001b[1;36m1\u001b[0m\u001b[1;33m,\u001b[0m \u001b[1;36m2\u001b[0m\u001b[1;33m,\u001b[0m \u001b[1;36m3\u001b[0m\u001b[1;33m,\u001b[0m \u001b[1;36m4\u001b[0m\u001b[1;33m,\u001b[0m \u001b[1;33m[\u001b[0m\u001b[1;36m1\u001b[0m\u001b[1;33m,\u001b[0m \u001b[1;36m9\u001b[0m\u001b[1;33m]\u001b[0m\u001b[1;33m,\u001b[0m \u001b[1;34m'a_string'\u001b[0m\u001b[1;33m,\u001b[0m \u001b[1;36m0.89\u001b[0m\u001b[1;33m]\u001b[0m\u001b[1;33m\u001b[0m\u001b[1;33m\u001b[0m\u001b[0m\n\u001b[1;32m----> 2\u001b[1;33m \u001b[0mmin\u001b[0m\u001b[1;33m(\u001b[0m\u001b[0ma\u001b[0m\u001b[1;33m)\u001b[0m\u001b[1;33m\u001b[0m\u001b[1;33m\u001b[0m\u001b[0m\n\u001b[0m",
      "\u001b[1;31mTypeError\u001b[0m: '<' not supported between instances of 'list' and 'int'"
     ]
    }
   ],
   "source": [
    "a = [1, 2, 3, 4, [1, 9], 'a_string', 0.89]\n",
    "min(a)"
   ]
  },
  {
   "cell_type": "code",
   "execution_count": 97,
   "id": "1ef0c343-eab9-45b8-ac53-80af977301cc",
   "metadata": {},
   "outputs": [
    {
     "data": {
      "text/plain": [
       "2"
      ]
     },
     "execution_count": 97,
     "metadata": {},
     "output_type": "execute_result"
    }
   ],
   "source": [
    "b = [2, 2, 2, 2, 3, 3]\n",
    "min(b)"
   ]
  },
  {
   "cell_type": "markdown",
   "id": "eb81822a-c143-40c8-a7d3-a35a22a08a9b",
   "metadata": {},
   "source": [
    "## Slicing"
   ]
  },
  {
   "cell_type": "markdown",
   "id": "cd86b1e2-7253-43a5-bb04-913f9505f6d0",
   "metadata": {},
   "source": [
    "### Syntax\n",
    "```python\n",
    "a[low:high:step] if step>0\n",
    "a[high:low:step] if step<0\n",
    "```"
   ]
  },
  {
   "cell_type": "code",
   "execution_count": 131,
   "id": "218110e2-c63c-4fed-bc5e-81ce8a9e207b",
   "metadata": {},
   "outputs": [
    {
     "data": {
      "text/plain": [
       "[1, 2, 3, 4, 5, 6, 7, 8, 9, 10, 11, 12]"
      ]
     },
     "execution_count": 131,
     "metadata": {},
     "output_type": "execute_result"
    }
   ],
   "source": [
    "a = [1, 2, 3, 4, 5, 6, 7, 8, 9, 10, 11, 12]\n",
    "a"
   ]
  },
  {
   "cell_type": "code",
   "execution_count": 132,
   "id": "9c19e596-4ab3-454a-a3cd-5e6bba3d4e6a",
   "metadata": {},
   "outputs": [
    {
     "data": {
      "text/plain": [
       "[2, 3]"
      ]
     },
     "execution_count": 132,
     "metadata": {},
     "output_type": "execute_result"
    }
   ],
   "source": [
    "a[1:3]"
   ]
  },
  {
   "cell_type": "code",
   "execution_count": 133,
   "id": "0e5987c2-3f16-4b02-ac3c-24b07d143710",
   "metadata": {},
   "outputs": [
    {
     "data": {
      "text/plain": [
       "[2, 4, 6, 8]"
      ]
     },
     "execution_count": 133,
     "metadata": {},
     "output_type": "execute_result"
    }
   ],
   "source": [
    "a[1:9:2]"
   ]
  },
  {
   "cell_type": "code",
   "execution_count": 134,
   "id": "c317dd43-f5f7-4299-83e1-65443c4bc301",
   "metadata": {},
   "outputs": [
    {
     "data": {
      "text/plain": [
       "[1, 3, 5, 7, 9]"
      ]
     },
     "execution_count": 134,
     "metadata": {},
     "output_type": "execute_result"
    }
   ],
   "source": [
    "a[:9:2]"
   ]
  },
  {
   "cell_type": "code",
   "execution_count": 135,
   "id": "8978e741-589e-48b2-bff9-012d01e78008",
   "metadata": {},
   "outputs": [
    {
     "data": {
      "text/plain": [
       "[1, 3, 5, 7, 9, 11]"
      ]
     },
     "execution_count": 135,
     "metadata": {},
     "output_type": "execute_result"
    }
   ],
   "source": [
    "a[::2]"
   ]
  },
  {
   "cell_type": "code",
   "execution_count": 136,
   "id": "665979b8-d336-4f52-a8c2-5f54ad92623a",
   "metadata": {},
   "outputs": [
    {
     "data": {
      "text/plain": [
       "[1, 2, 3, 4, 5, 6, 7, 8, 9, 10]"
      ]
     },
     "execution_count": 136,
     "metadata": {},
     "output_type": "execute_result"
    }
   ],
   "source": [
    "a[:-2]"
   ]
  },
  {
   "cell_type": "code",
   "execution_count": 137,
   "id": "44442473-62b1-483e-b816-074b8646cfbb",
   "metadata": {},
   "outputs": [
    {
     "data": {
      "text/plain": [
       "[11, 12]"
      ]
     },
     "execution_count": 137,
     "metadata": {},
     "output_type": "execute_result"
    }
   ],
   "source": [
    "a[-2:]"
   ]
  },
  {
   "cell_type": "code",
   "execution_count": 138,
   "id": "8f851213-8047-4899-b2fb-46693dba6e5e",
   "metadata": {},
   "outputs": [
    {
     "data": {
      "text/plain": [
       "[12, 11, 10, 9, 8, 7, 6, 5, 4, 3, 2, 1]"
      ]
     },
     "execution_count": 138,
     "metadata": {},
     "output_type": "execute_result"
    }
   ],
   "source": [
    "a[::-1]"
   ]
  },
  {
   "cell_type": "code",
   "execution_count": 143,
   "id": "1381eeb6-acda-4c9d-890d-b9604306942d",
   "metadata": {},
   "outputs": [
    {
     "data": {
      "text/plain": [
       "[10, 8, 6, 4, 2]"
      ]
     },
     "execution_count": 143,
     "metadata": {},
     "output_type": "execute_result"
    }
   ],
   "source": [
    "a = [1, 2, 3, 4, 5, 6, 7, 8, 9, 10, 11, 12]\n",
    "a[-3::-2]"
   ]
  },
  {
   "cell_type": "code",
   "execution_count": 142,
   "id": "cda8837a-0510-4845-8445-d1cc24e4105f",
   "metadata": {},
   "outputs": [
    {
     "data": {
      "text/plain": [
       "[12, 11, 10, 9]"
      ]
     },
     "execution_count": 142,
     "metadata": {},
     "output_type": "execute_result"
    }
   ],
   "source": [
    "a[:-5:-1]"
   ]
  },
  {
   "cell_type": "markdown",
   "id": "7158bb3e-d9cd-4080-8063-1489402041cd",
   "metadata": {},
   "source": [
    "# **Mock Test**"
   ]
  },
  {
   "cell_type": "markdown",
   "id": "7516d971-05a8-4553-a226-8c86c709a1da",
   "metadata": {},
   "source": [
    "### 1\n",
    "$$ f(x) = 1 + \\frac{1}{1 + e^{-x}} $$"
   ]
  },
  {
   "cell_type": "code",
   "execution_count": 2,
   "id": "63ecc1e3-94ef-4a37-8756-9e307ae3c5e1",
   "metadata": {},
   "outputs": [],
   "source": [
    "import math\n",
    "\n",
    "def func(number):\n",
    "    return 1 + 1/(1 + math.pow(math.e, -number))"
   ]
  },
  {
   "cell_type": "code",
   "execution_count": 8,
   "id": "e195cfac-efb2-4a6f-ba59-afe8246d6904",
   "metadata": {},
   "outputs": [
    {
     "name": "stdin",
     "output_type": "stream",
     "text": [
      "Enter the a number to activate above function:  1\n"
     ]
    },
    {
     "name": "stdout",
     "output_type": "stream",
     "text": [
      "f(1) = 1.7310585786300048\n"
     ]
    }
   ],
   "source": [
    "number = int(input('Enter the a number to activate above function: '))\n",
    "print(\"f({}) = {}\".format(number, func(number)))"
   ]
  },
  {
   "cell_type": "code",
   "execution_count": 7,
   "id": "bb4f612f-51d6-4d43-8501-eafd97bbe24b",
   "metadata": {},
   "outputs": [
    {
     "name": "stdin",
     "output_type": "stream",
     "text": [
      "Enter the a number to activate above function:  1\n"
     ]
    },
    {
     "name": "stdout",
     "output_type": "stream",
     "text": [
      "f(1) = 1.7311\n"
     ]
    }
   ],
   "source": [
    "number = int(input('Enter the a number to activate above function: '))\n",
    "print(\"f({}) = {:.4f}\".format(number, func(number)))"
   ]
  },
  {
   "cell_type": "code",
   "execution_count": 3,
   "id": "05c0fce0-da9f-452d-a952-0812a50ee5ae",
   "metadata": {},
   "outputs": [
    {
     "name": "stdin",
     "output_type": "stream",
     "text": [
      "Enter the a number to activate above function:  1\n"
     ]
    },
    {
     "name": "stdout",
     "output_type": "stream",
     "text": [
      "f(1) = 1.7310586\n"
     ]
    }
   ],
   "source": [
    "number = int(input('Enter the a number to activate above function: '))\n",
    "print(f\"f({number}) = {func(number):.8g}\")"
   ]
  },
  {
   "cell_type": "code",
   "execution_count": null,
   "id": "6d4fbef4-a8ff-4d18-99e2-a6ed667f1801",
   "metadata": {},
   "outputs": [],
   "source": [
    "#include <stdio.h>\n",
    "#include <math.h>\n",
    "\n",
    "double compute_function (int x)\n",
    "{\n",
    "    double result = 1 + (1/(1 + exp(-x)));\n",
    "    return result;\n",
    "}\n",
    "\n",
    "int main()\n",
    "{\n",
    "    int num1, num2;\n",
    "    \n",
    "    printf(\"Enter a number: \\n>> \");\n",
    "    scanf(\"%d\",&num1);\n",
    "    printf(\"f(%d) = %.8g\\n\\n\", num1, compute_function(num1));\n",
    "    \n",
    "    printf(\"Enter a number: \\n>> \");\n",
    "    scanf(\"%d\",&num2);\n",
    "    printf(\"f(%d) = %.8g\\n\\n\", num2, compute_function(num2));\n",
    "}"
   ]
  },
  {
   "cell_type": "markdown",
   "id": "f778227f-8a23-4316-851a-65eecc690a76",
   "metadata": {},
   "source": [
    "$$ PI \\approx 4\\sum_{i=1}^{n}\\frac{(-1)^{i+1}}{2i-1} $$"
   ]
  },
  {
   "cell_type": "code",
   "execution_count": 10,
   "id": "5bd581fe-4673-4d87-aaed-81a68c8d43d4",
   "metadata": {},
   "outputs": [
    {
     "name": "stdout",
     "output_type": "stream",
     "text": [
      "pi = 3.142594\n"
     ]
    }
   ],
   "source": [
    "def estimate_pi(n=1000):\n",
    "    pi = 0\n",
    "    for i in range(1, n):\n",
    "        pi += (-1)**(i+1) / (2*i - 1)\n",
    "    return pi*4\n",
    "\n",
    "print(f\"pi = {estimate_pi():.6f}\")"
   ]
  },
  {
   "cell_type": "code",
   "execution_count": null,
   "id": "bb9a45b8-612c-4491-b277-03eb32d1ad94",
   "metadata": {},
   "outputs": [],
   "source": [
    "#include <stdio.h>\n",
    "#include <math.h>\n",
    "\n",
    "double estimate_pi(int n)\n",
    "{\n",
    "    if (n > 0)\n",
    "        return pow(-1, n+1) / (2*n-1) + estimate_pi(n-1);\n",
    "    else\n",
    "        return  0;\n",
    "}\n",
    "\n",
    "int main()\n",
    "{\n",
    "    printf(\"\\nPI is approximately %lf\\n\", 4*estimate_pi(1000));\n",
    "}"
   ]
  },
  {
   "cell_type": "markdown",
   "id": "72fda547-4f0d-46d0-882d-3f55c0ac5167",
   "metadata": {},
   "source": [
    "### 2\n",
    "$$ f(x_{i}) = \\frac{e^{x_{i}}}{\\sum_{j}e^{x_{j}}} $$"
   ]
  },
  {
   "cell_type": "code",
   "execution_count": 6,
   "id": "6b7139ef-2741-4d12-bf3e-1967b30c5270",
   "metadata": {},
   "outputs": [
    {
     "name": "stdout",
     "output_type": "stream",
     "text": [
      "denominator =  30.19287485057736\n",
      "Softmax =  [0.09003057317038046, 0.24472847105479767, 0.6652409557748219]\n",
      "denominator =  30.19287485057736\n",
      "Softmax =  [0.09  0.245 0.665]\n"
     ]
    }
   ],
   "source": [
    "import math\n",
    "import numpy as np\n",
    "\n",
    "def softmax_1(array):\n",
    "    denominator = 0\n",
    "    for element in array:\n",
    "        denominator += math.exp(element)\n",
    "        \n",
    "    print(\"denominator = \", denominator)\n",
    "    \n",
    "    result = []  \n",
    "    for element in array:\n",
    "        result.append(math.exp(element) / denominator)\n",
    "                          \n",
    "    return result\n",
    "\n",
    "array = [1.0, 2.0, 3.0]\n",
    "print(\"Softmax = \", softmax_1(array))\n",
    "print(\"Softmax = \", np.around(softmax_1(array), 3))"
   ]
  },
  {
   "cell_type": "code",
   "execution_count": 48,
   "id": "021fe787-c02a-41c7-aaeb-3ac92c0118b4",
   "metadata": {},
   "outputs": [
    {
     "name": "stdout",
     "output_type": "stream",
     "text": [
      "[0.09003057 0.24472847 0.66524096]\n",
      "[0.09  0.245 0.665]\n"
     ]
    }
   ],
   "source": [
    "import numpy as np\n",
    "\n",
    "def softmax_2(array):\n",
    "    return np.exp(array) / sum(np.exp(array))\n",
    "\n",
    "array = [1.0, 2.0, 3.0]\n",
    "print(softmax_2(array))\n",
    "print(np.around(softmax_2(array), 3))"
   ]
  },
  {
   "cell_type": "code",
   "execution_count": 66,
   "id": "ce918ec6-456b-4a8e-829c-52c18ecbbce7",
   "metadata": {},
   "outputs": [
    {
     "name": "stdout",
     "output_type": "stream",
     "text": [
      "[0.09003057 0.24472847 0.66524096]\n",
      "[0.09  0.245 0.665]\n"
     ]
    }
   ],
   "source": [
    "from scipy.special import softmax\n",
    "\n",
    "array = [1.0, 2.0, 3.0]\n",
    "print(softmax(array))\n",
    "print(np.around(softmax(array), 3))"
   ]
  },
  {
   "cell_type": "code",
   "execution_count": null,
   "id": "e53488ba-c809-4393-b8e3-b8a925dc9712",
   "metadata": {},
   "outputs": [],
   "source": [
    "#include <stdio.h>\n",
    "#include <stdlib.h>\n",
    "#include <math.h>\n",
    "\n",
    "#define length 3\n",
    "\n",
    "void print_array(double array[])\n",
    "{\n",
    "    int i;\n",
    "    \n",
    "    for (i = 0; i < length; i++)\n",
    "    {\n",
    "        printf(\"%.3g\\t\", array[i]);\n",
    "    }\n",
    "    puts(\"\");\n",
    "}\n",
    "\n",
    "void softmax(double array[])\n",
    "{\n",
    "    double denominator = 0;\n",
    "    int i;\n",
    "    double result[length];\n",
    "    \n",
    "    for(i = 0; i < length; i++)\n",
    "    {\n",
    "        denominator += exp(array[i]);\n",
    "    }\n",
    "    \n",
    "    \n",
    "    for(i = 0; i < length; i++)\n",
    "    {\n",
    "        result[i] = exp(array[i]) / denominator;\n",
    "    }\n",
    "    \n",
    "    print_array(result);\n",
    "}\n",
    "\n",
    "int main()\n",
    "{\n",
    "    double array[length] = {1.0, 2.0, 3.0};\n",
    "    \n",
    "    printf(\"Your array:\\n\");\n",
    "    print_array(array);\n",
    "    printf(\"Softmax:\\n\");\n",
    "    softmax(array);\n",
    "}"
   ]
  },
  {
   "cell_type": "code",
   "execution_count": null,
   "id": "d5245f09-f5e3-4f17-9111-59f7fe66cac8",
   "metadata": {},
   "outputs": [],
   "source": [
    "#include <stdio.h>\n",
    "#include <stdlib.h>\n",
    "#include <math.h>\n",
    "\n",
    "double * softmax(double array[], int length)\n",
    "{\n",
    "    double denominator = 0;\n",
    "    int i;\n",
    "    double * result = (double*)malloc(length * sizeof(double));\n",
    "    \n",
    "    for(i = 0; i < length; i++)\n",
    "    {\n",
    "        denominator += exp(array[i]);\n",
    "    }\n",
    "    \n",
    "    \n",
    "    for(i = 0; i < length; i++)\n",
    "    {\n",
    "        result[i] = exp(array[i]) / denominator;\n",
    "    }\n",
    "    \n",
    "    return result;\n",
    "}\n",
    "\n",
    "void print_array(double *array, int length)\n",
    "{\n",
    "    int i;\n",
    "    \n",
    "    for (i = 0; i < length; i++)\n",
    "    {\n",
    "        printf(\"%.3g\\t\", array[i]);\n",
    "    }\n",
    "    puts(\"\");\n",
    "}\n",
    "\n",
    "int main()\n",
    "{\n",
    "    double array[] = {1.0, 2.0, 3.0};\n",
    "    int length = (int)sizeof(array)/sizeof(array[0]);\n",
    "    double * result = softmax(array, length);\n",
    "    \n",
    "    printf(\"Your array:\\n\");\n",
    "    print_array(array, length);\n",
    "    printf(\"Softmax:\\n\");\n",
    "    print_array(result, length);\n",
    "}"
   ]
  },
  {
   "cell_type": "code",
   "execution_count": null,
   "id": "3cb9d2ab-b9bf-4cf4-9e4c-fd89e495561d",
   "metadata": {},
   "outputs": [],
   "source": [
    "#include <stdio.h>\n",
    "#include <stdlib.h>\n",
    "#include <math.h>\n",
    "\n",
    "void print_array(double array[], int length)\n",
    "{\n",
    "    int i;\n",
    "    \n",
    "    for (i = 0; i < length; i++)\n",
    "    {\n",
    "        printf(\"%.3g\\t\", array[i]);\n",
    "    }\n",
    "    puts(\"\");\n",
    "}\n",
    "\n",
    "void softmax(double array[], int length)\n",
    "{\n",
    "    double denominator = 0;\n",
    "    int i;\n",
    "    double result[length];\n",
    "    \n",
    "    for(i = 0; i < length; i++)\n",
    "    {\n",
    "        denominator += exp(array[i]);\n",
    "    }\n",
    "    \n",
    "    for(i = 0; i < length; i++)\n",
    "    {\n",
    "        result[i] = exp(array[i]) / denominator;\n",
    "    }\n",
    "    \n",
    "    print_array(result, length);\n",
    "}\n",
    "\n",
    "int main()\n",
    "{\n",
    "    double array[] = {1.0, 2.0, 3.0};\n",
    "    int length = (int)sizeof(array)/sizeof(array[0]);\n",
    "    \n",
    "    printf(\"Your array:\\n\");\n",
    "    print_array(array, length);\n",
    "    printf(\"Softmax:\\n\");\n",
    "    softmax(array, length);\n",
    "}"
   ]
  },
  {
   "cell_type": "markdown",
   "id": "dacae53b-928f-4141-ae4e-0ee174c9c862",
   "metadata": {},
   "source": [
    "### 3\n",
    "a) Given a fixed n and an array with the size of n, write a function to set random integers in the interval [0, 9]  \n",
    "b) Write a function to compute the sum of all the elements of the array."
   ]
  },
  {
   "cell_type": "code",
   "execution_count": 68,
   "id": "f410f944-d772-4a5c-955c-3482d28d204f",
   "metadata": {},
   "outputs": [
    {
     "name": "stdout",
     "output_type": "stream",
     "text": [
      "[4, 7, 2, 7, 3]\n",
      "Sum of array = 23\n"
     ]
    }
   ],
   "source": [
    "import random\n",
    "\n",
    "def random_array(n):\n",
    "    array = []\n",
    "    for i in range(n):\n",
    "        array.append(random.randint(0,9))\n",
    "    return array\n",
    "\n",
    "def sum_array(array):\n",
    "    result = 0\n",
    "    for element in array:\n",
    "        result += element\n",
    "    return result\n",
    "\n",
    "array = random_array(5)\n",
    "print(array)\n",
    "print(\"Sum of array =\", sum_array(array))"
   ]
  },
  {
   "cell_type": "code",
   "execution_count": 70,
   "id": "ce1ca85d-753d-4560-9d71-7dfc8fcb03d7",
   "metadata": {},
   "outputs": [
    {
     "name": "stdout",
     "output_type": "stream",
     "text": [
      "[6, 5, 1, 1, 9]\n",
      "Sum of array = 22\n"
     ]
    }
   ],
   "source": [
    "import random\n",
    "\n",
    "def random_array(n):\n",
    "    return [random.randint(0,9) for _ in range(n)]\n",
    "\n",
    "def sum_array(array):\n",
    "    result = 0\n",
    "    for element in array:\n",
    "        result += element\n",
    "    return result\n",
    "\n",
    "array = random_array(5)\n",
    "print(array)\n",
    "print(\"Sum of array =\", sum_array(array))"
   ]
  },
  {
   "cell_type": "code",
   "execution_count": null,
   "id": "e705a8c0-ba68-46ae-83b5-0aedde8e3219",
   "metadata": {},
   "outputs": [],
   "source": [
    "#include <stdio.h>\n",
    "#include <stdlib.h>\n",
    "#include <time.h>\n",
    "\n",
    "#define length 5\n",
    "\n",
    "int main()\n",
    "{\n",
    "    int array[length];\n",
    "    int i;\n",
    "    int sum = 0;\n",
    "    srand(time(NULL)); \n",
    "    \n",
    "    for (i = 0; i < length; i++)\n",
    "    {\n",
    "        array[i] = rand() % 10;\n",
    "        printf(\"%d\\t\", array[i]);\n",
    "    }\n",
    "    \n",
    "    for (i = 0; i < length; i++)\n",
    "    {\n",
    "        sum += array[i];\n",
    "    }\n",
    "    \n",
    "    printf(\"\\nsum = %d\", sum);\n",
    "}\n"
   ]
  },
  {
   "cell_type": "code",
   "execution_count": null,
   "id": "4f59a62c-56e4-4acc-a3b2-5887aad468cd",
   "metadata": {},
   "outputs": [],
   "source": [
    "#include <stdio.h>\n",
    "#include <stdlib.h>\n",
    "#include <time.h>\n",
    "\n",
    "#define length 5\n",
    "\n",
    "void print_array(int array[])\n",
    "{\n",
    "    int i;\n",
    "    \n",
    "    for (i = 0; i < length; i++)\n",
    "    {\n",
    "        printf(\"%d\\t\", array[i]);\n",
    "    }\n",
    "}\n",
    "\n",
    "int sum_array(int array[])\n",
    "{\n",
    "    int sum = 0;\n",
    "    int i;\n",
    "    \n",
    "    for (i = 0; i < length; i++)\n",
    "    {\n",
    "        sum += array[i];\n",
    "    } \n",
    "    \n",
    "    return sum;\n",
    "}\n",
    "\n",
    "int main()\n",
    "{\n",
    "    int array[length];\n",
    "    int i;\n",
    "    srand(time(NULL)); \n",
    "    \n",
    "    for(i = 0; i < length; i++)\n",
    "    {\n",
    "        array[i] = rand() % 10;\n",
    "    }\n",
    "    \n",
    "    printf(\"\\nYour array: \\n\");\n",
    "    print_array(array);\n",
    "    printf(\"\\nsum = %d\", sum_array(array));\n",
    "}"
   ]
  },
  {
   "cell_type": "code",
   "execution_count": null,
   "id": "c4d7cda1-3b0b-4d65-9e84-84c2598c21ff",
   "metadata": {},
   "outputs": [],
   "source": [
    "#include <stdio.h>\n",
    "#include <stdlib.h>\n",
    "#include <time.h>\n",
    "\n",
    "int random_array(int * array, int length)\n",
    "{\n",
    "    int i;\n",
    "    srand(time(NULL));  \n",
    "    \n",
    "    for (i = 0; i < length; i++)\n",
    "    {\n",
    "        array[i] = rand() % 10;\n",
    "    }\n",
    "}\n",
    "\n",
    "void print_array(int array[], int length)\n",
    "{\n",
    "    int i;\n",
    "    \n",
    "    for (i = 0; i < length; i++)\n",
    "    {\n",
    "        printf(\"%d\\t\", array[i]);\n",
    "    }\n",
    "}\n",
    "\n",
    "int sum_array(int array[], int length)\n",
    "{\n",
    "    int sum = 0;\n",
    "    int i;\n",
    "    \n",
    "    for (i = 0; i < length; i++)\n",
    "    {\n",
    "        sum += array[i];\n",
    "    } \n",
    "    \n",
    "    return sum;\n",
    "}\n",
    "\n",
    "int main()\n",
    "{\n",
    "    int length;\n",
    "    int * array = (int*)malloc(length * sizeof(int));\n",
    "    \n",
    "    printf(\"Enter array's length: \\n>> \");\n",
    "    scanf(\"%d\", &length);\n",
    "    \n",
    "    random_array(array, length);\n",
    "    printf(\"\\nYour array: \\n\");\n",
    "    print_array(array, length);\n",
    "    printf(\"\\nsum = %d\", sum_array(array, length));\n",
    "}"
   ]
  },
  {
   "cell_type": "code",
   "execution_count": null,
   "id": "8ef1ed5b-97ae-4f79-a735-43d9d76552d4",
   "metadata": {},
   "outputs": [],
   "source": [
    "#include <stdio.h>\n",
    "#include <stdlib.h>\n",
    "#include <time.h>\n",
    "\n",
    "void print_array(int array[], int length)\n",
    "{\n",
    "    int i;\n",
    "    \n",
    "    for (i = 0; i < length; i++)\n",
    "    {\n",
    "        printf(\"%d\\t\", array[i]);\n",
    "    }\n",
    "}\n",
    "\n",
    "int sum_array(int array[], int length)\n",
    "{\n",
    "    int sum = 0;\n",
    "    int i;\n",
    "    \n",
    "    for (i = 0; i < length; i++)\n",
    "    {\n",
    "        sum += array[i];\n",
    "    } \n",
    "    \n",
    "    return sum;\n",
    "}\n",
    "\n",
    "void random_array(int array[], int length)\n",
    "{\n",
    "    int i;\n",
    "    srand(time(NULL));  \n",
    "    \n",
    "    for (i = 0; i < length; i++)\n",
    "    {\n",
    "        array[i] = rand() % 10;\n",
    "    }\n",
    "    \n",
    "    print_array(array, length);\n",
    "    printf(\"\\nsum = %d\", sum_array(array, length));\n",
    "}\n",
    "\n",
    "int main()\n",
    "{\n",
    "    int length;\n",
    "    \n",
    "    printf(\"Enter array's length: \\n>> \");\n",
    "    scanf(\"%d\", &length);\n",
    "    \n",
    "    int array[length];\n",
    "    \n",
    "    random_array(array, length);\n",
    "}"
   ]
  }
 ],
 "metadata": {
  "kernelspec": {
   "display_name": "Python 3",
   "language": "python",
   "name": "python3"
  },
  "language_info": {
   "codemirror_mode": {
    "name": "ipython",
    "version": 3
   },
   "file_extension": ".py",
   "mimetype": "text/x-python",
   "name": "python",
   "nbconvert_exporter": "python",
   "pygments_lexer": "ipython3",
   "version": "3.8.8"
  }
 },
 "nbformat": 4,
 "nbformat_minor": 5
}
