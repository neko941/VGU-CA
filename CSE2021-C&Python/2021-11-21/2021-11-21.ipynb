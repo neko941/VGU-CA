{
 "cells": [
  {
   "cell_type": "markdown",
   "id": "ba6c2828-85b6-4433-bb71-47efbe7804ca",
   "metadata": {},
   "source": [
    "# Variables"
   ]
  },
  {
   "cell_type": "code",
   "execution_count": 14,
   "id": "6181352c-6c5d-4933-b2c3-3c56ec7a2e62",
   "metadata": {},
   "outputs": [
    {
     "data": {
      "text/plain": [
       "'Hello'"
      ]
     },
     "execution_count": 14,
     "metadata": {},
     "output_type": "execute_result"
    }
   ],
   "source": [
    "a_string = \"Hello\"\n",
    "a_string"
   ]
  },
  {
   "cell_type": "code",
   "execution_count": 15,
   "id": "095e9285-4c2e-497a-818c-5e0f472e022d",
   "metadata": {},
   "outputs": [
    {
     "data": {
      "text/plain": [
       "100"
      ]
     },
     "execution_count": 15,
     "metadata": {},
     "output_type": "execute_result"
    }
   ],
   "source": [
    "an_integer = 100\n",
    "an_integer"
   ]
  },
  {
   "cell_type": "code",
   "execution_count": 16,
   "id": "6c933ece-ccf4-441f-b964-0bbf54c03d84",
   "metadata": {},
   "outputs": [
    {
     "data": {
      "text/plain": [
       "5.1"
      ]
     },
     "execution_count": 16,
     "metadata": {},
     "output_type": "execute_result"
    }
   ],
   "source": [
    "a_float = 5.1\n",
    "a_float"
   ]
  },
  {
   "cell_type": "markdown",
   "id": "ea4fc6e1-5915-4790-8480-a898544ddc06",
   "metadata": {},
   "source": [
    "# Functions"
   ]
  },
  {
   "cell_type": "code",
   "execution_count": 37,
   "id": "75ad47c4-b821-42e5-8d0f-0209b7496ace",
   "metadata": {},
   "outputs": [
    {
     "name": "stdin",
     "output_type": "stream",
     "text": [
      "Enter the first of the Fibonacci sequence: \n",
      ">>  1\n",
      "Enter the second of the Fibonacci sequence: \n",
      ">>  1\n",
      "Enter the length of the Fibonacci sequence: \n",
      ">>  9\n"
     ]
    },
    {
     "name": "stdout",
     "output_type": "stream",
     "text": [
      "\n",
      "The Fibonacci sequence: \n",
      "1\t1\t2\t3\t5\t8\t13\t21\t34\t"
     ]
    }
   ],
   "source": [
    "def fibonacci(first, second, length):\n",
    "    if length != 2:\n",
    "        length -= 1\n",
    "        next_num = first + second\n",
    "        print(str(next_num) + \"\\t\", end=\"\")        \n",
    "        return fibonacci(second, next_num, length)\n",
    "\n",
    "first = int(input(\"Enter the first of the Fibonacci sequence: \\n>> \"))\n",
    "second = int(input(\"Enter the second of the Fibonacci sequence: \\n>> \"))\n",
    "length = int(input(\"Enter the length of the Fibonacci sequence: \\n>> \"))\n",
    "\n",
    "print(f\"\\nThe Fibonacci sequence: \\n{first}\\t{second}\\t\", end=\"\")\n",
    "fibonacci(first, second, length)"
   ]
  },
  {
   "cell_type": "markdown",
   "id": "2423dc80-19a1-43f1-bd21-220e4b10c9ee",
   "metadata": {},
   "source": [
    "### print numbers divisible by 5 from a list"
   ]
  },
  {
   "cell_type": "code",
   "execution_count": 52,
   "id": "2a8ef9a2-eb9e-4d4d-8aee-642ef8ae94b0",
   "metadata": {},
   "outputs": [
    {
     "name": "stdout",
     "output_type": "stream",
     "text": [
      "Divisible by 5:\n",
      "10\t20\t55\t"
     ]
    }
   ],
   "source": [
    "def divisible_by_5(a_list):\n",
    "    for num in num_list:\n",
    "        if num % 5 == 0:\n",
    "            print(f\"{num}\\t\", end=\"\")\n",
    "\n",
    "num_list = [10, 20, 33, 46, 55]\n",
    "print(\"Divisible by 5:\")\n",
    "divisible_by_5(num_list)"
   ]
  },
  {
   "cell_type": "code",
   "execution_count": 50,
   "id": "113e94ae-d788-4e57-8e11-e7ec2aee0797",
   "metadata": {},
   "outputs": [
    {
     "data": {
      "text/plain": [
       "[10, 20, 55]"
      ]
     },
     "execution_count": 50,
     "metadata": {},
     "output_type": "execute_result"
    }
   ],
   "source": [
    "num_list = [10, 20, 33, 46, 55]\n",
    "result = [num for num in num_list if num % 5 == 0]\n",
    "result"
   ]
  },
  {
   "cell_type": "code",
   "execution_count": 51,
   "id": "bb38ee24-8b42-451f-be18-af0dbf74b882",
   "metadata": {},
   "outputs": [
    {
     "name": "stdout",
     "output_type": "stream",
     "text": [
      "10\t20\t55\t"
     ]
    }
   ],
   "source": [
    "num_list = [10, 20, 33, 46, 55]\n",
    "_ = [print(f\"{num}\\t\", end=\"\") for num in num_list if num % 5 == 0]"
   ]
  },
  {
   "cell_type": "markdown",
   "id": "94c988b5-2a28-40c1-860c-47c7e2418e51",
   "metadata": {},
   "source": [
    "# IF - ELIF - ELSE"
   ]
  },
  {
   "cell_type": "code",
   "execution_count": 47,
   "id": "d1e967cc-65f4-4e57-b0bd-0c1ec7482557",
   "metadata": {},
   "outputs": [
    {
     "name": "stdout",
     "output_type": "stream",
     "text": [
      "a is equal 5\n"
     ]
    }
   ],
   "source": [
    "# format of a if - elif - else\n",
    "a = 5\n",
    "\n",
    "if a < 5:\n",
    "   print(\"a is less than 5\")\n",
    "elif a > 5:\n",
    "   print(\"a is greater than 5\")\n",
    "else:\n",
    "   print(\"a is equal 5\")"
   ]
  },
  {
   "cell_type": "code",
   "execution_count": 10,
   "id": "467b4493-d546-4408-8f23-8682044f3036",
   "metadata": {},
   "outputs": [
    {
     "name": "stdout",
     "output_type": "stream",
     "text": [
      "a is equal 5\n"
     ]
    }
   ],
   "source": [
    "a = 5\n",
    "\n",
    "print(\"a is less than 5\") if a < 5 else (print(\"a is greater than 5\") if a > 5 else(print(\"a is equal 5\")))"
   ]
  },
  {
   "cell_type": "markdown",
   "id": "6cceeb52-4251-4fa7-9ce0-227d6959cc56",
   "metadata": {},
   "source": [
    "# COMPUTE THE AREAS"
   ]
  },
  {
   "attachments": {
    "40899f95-484d-4715-ad14-490b340fe147.png": {
     "image/png": "[encoded data removed]"
    }
   },
   "cell_type": "markdown",
   "id": "35435676-c2b2-4092-aba7-aee1de873df5",
   "metadata": {},
   "source": [
    "![image.png](attachment:40899f95-484d-4715-ad14-490b340fe147.png)"
   ]
  },
  {
   "cell_type": "code",
   "execution_count": 2,
   "id": "b1fa65c2-4284-4cf2-b927-47c0090ff0ab",
   "metadata": {},
   "outputs": [
    {
     "data": {
      "text/plain": [
       "6.0"
      ]
     },
     "execution_count": 2,
     "metadata": {},
     "output_type": "execute_result"
    }
   ],
   "source": [
    "def compute_triangle_area(b, h):\n",
    "    return b*h/2\n",
    "\n",
    "compute_triangle_area(3, 4)"
   ]
  },
  {
   "attachments": {
    "6a0b985e-6d7a-4706-b21f-797045533dd0.png": {
     "image/png": "[encoded data removed]"
    }
   },
   "cell_type": "markdown",
   "id": "d280d1df-f312-4336-a47a-ad05e4441ebc",
   "metadata": {},
   "source": [
    "![image.png](attachment:6a0b985e-6d7a-4706-b21f-797045533dd0.png)"
   ]
  },
  {
   "cell_type": "code",
   "execution_count": 21,
   "id": "f2f1a76f-b8e8-4deb-bb8e-dccbb73e57af",
   "metadata": {},
   "outputs": [],
   "source": [
    "def compute_parallelogram_area(b, h):\n",
    "    return b*h"
   ]
  },
  {
   "cell_type": "code",
   "execution_count": 22,
   "id": "29bcaac7-c1b7-4df9-a0a1-e4706b513ff0",
   "metadata": {},
   "outputs": [
    {
     "data": {
      "text/plain": [
       "12.0"
      ]
     },
     "execution_count": 22,
     "metadata": {},
     "output_type": "execute_result"
    }
   ],
   "source": [
    "compute_parallelogram_area(3, 4.0)"
   ]
  },
  {
   "cell_type": "code",
   "execution_count": 23,
   "id": "9e5d55a7-516b-40cf-b9dd-8f9a08f3f108",
   "metadata": {},
   "outputs": [
    {
     "data": {
      "text/plain": [
       "2"
      ]
     },
     "execution_count": 23,
     "metadata": {},
     "output_type": "execute_result"
    }
   ],
   "source": [
    "compute_parallelogram_area(1, 2)"
   ]
  },
  {
   "attachments": {
    "76736d58-8bde-4ac5-97af-7db44504c65f.png": {
     "image/png": "[encoded data removed]"
    }
   },
   "cell_type": "markdown",
   "id": "94da0b35-8ba0-47c1-9682-4635e7f1cedb",
   "metadata": {},
   "source": [
    "![image.png](attachment:76736d58-8bde-4ac5-97af-7db44504c65f.png)"
   ]
  },
  {
   "cell_type": "code",
   "execution_count": 27,
   "id": "7224e77b-c8cc-4207-9d29-73b19c231d64",
   "metadata": {},
   "outputs": [
    {
     "data": {
      "text/plain": [
       "3"
      ]
     },
     "execution_count": 27,
     "metadata": {},
     "output_type": "execute_result"
    }
   ],
   "source": [
    "def compute_rectangular_area(L, w):\n",
    "    return L*w\n",
    "\n",
    "compute_rectangular_area(1, 3)"
   ]
  },
  {
   "cell_type": "code",
   "execution_count": 28,
   "id": "f16cb65b-0390-45ba-a41b-fe78444dcdc2",
   "metadata": {},
   "outputs": [
    {
     "data": {
      "text/plain": [
       "16"
      ]
     },
     "execution_count": 28,
     "metadata": {},
     "output_type": "execute_result"
    }
   ],
   "source": [
    "def compute_square_area_1(l):\n",
    "    return l**2\n",
    "\n",
    "compute_square_area(4)"
   ]
  },
  {
   "cell_type": "code",
   "execution_count": 1,
   "id": "f4416796-33c4-4dc0-9d5f-4bcfd31c6335",
   "metadata": {},
   "outputs": [
    {
     "data": {
      "text/plain": [
       "16"
      ]
     },
     "execution_count": 1,
     "metadata": {},
     "output_type": "execute_result"
    }
   ],
   "source": [
    "def compute_square_area_2(l):\n",
    "    return l*l\n",
    "\n",
    "compute_square_area_2(4)"
   ]
  },
  {
   "attachments": {
    "0e9f2863-ecec-46e4-8ebd-9bfc5e20a85a.png": {
     "image/png": "[encoded data removed]"
    }
   },
   "cell_type": "markdown",
   "id": "e804c2e6-51a9-4088-bc5b-2efb25149645",
   "metadata": {},
   "source": [
    "![image.png](attachment:0e9f2863-ecec-46e4-8ebd-9bfc5e20a85a.png)"
   ]
  },
  {
   "cell_type": "code",
   "execution_count": 27,
   "id": "6f5cc124-9259-4622-8b30-b3c54987d6d3",
   "metadata": {},
   "outputs": [
    {
     "data": {
      "text/plain": [
       "27.0"
      ]
     },
     "execution_count": 27,
     "metadata": {},
     "output_type": "execute_result"
    }
   ],
   "source": [
    "def compute_trapezoid_area(B, b, h):\n",
    "    return (B+b)*h/2\n",
    "\n",
    "compute_trapezoid_area(4, 5, 6)"
   ]
  },
  {
   "attachments": {
    "329abce5-29a3-42d5-9ece-21a09b501732.png": {
     "image/png": "[encoded data removed]"
    }
   },
   "cell_type": "markdown",
   "id": "f39f5e6f-e828-4bd8-b463-1504562aaffb",
   "metadata": {},
   "source": [
    "![image.png](attachment:329abce5-29a3-42d5-9ece-21a09b501732.png)"
   ]
  },
  {
   "cell_type": "code",
   "execution_count": 3,
   "id": "273d9b0a-acf9-4cb1-8aae-a34dbc926da6",
   "metadata": {},
   "outputs": [
    {
     "data": {
      "text/plain": [
       "50.24"
      ]
     },
     "execution_count": 3,
     "metadata": {},
     "output_type": "execute_result"
    }
   ],
   "source": [
    "def compute_circle_area(r):\n",
    "    return 3.14 * r **2\n",
    "\n",
    "compute_circle_area(4)"
   ]
  },
  {
   "cell_type": "markdown",
   "id": "69c70d6e-651b-4077-94ad-fd3f7d23a8c2",
   "metadata": {},
   "source": [
    "# FUZZY ENCODING"
   ]
  },
  {
   "cell_type": "code",
   "execution_count": 7,
   "id": "db797be7-c278-45f6-a824-d6cf1e89000c",
   "metadata": {},
   "outputs": [],
   "source": [
    "def FuzzyEncoding(x, y, T):\n",
    "    if (x + T) <= y:\n",
    "        result = 5\n",
    "    elif x < y and y < (x + T):\n",
    "        result = 4\n",
    "    elif x == y:\n",
    "        result = 3\n",
    "    elif y < x and x < (y + T):\n",
    "        result = 2\n",
    "    elif (y + T) <= x:\n",
    "        result = 1\n",
    "    \n",
    "    return result"
   ]
  },
  {
   "cell_type": "code",
   "execution_count": 9,
   "id": "dd576de7-76c3-442d-8a0f-f0fcfc4b9c56",
   "metadata": {},
   "outputs": [
    {
     "data": {
      "text/plain": [
       "5"
      ]
     },
     "execution_count": 9,
     "metadata": {},
     "output_type": "execute_result"
    }
   ],
   "source": [
    "FuzzyEncoding(1, 5, 3)"
   ]
  },
  {
   "cell_type": "code",
   "execution_count": 10,
   "id": "370969d8-4611-4b99-b77b-1a9d58531671",
   "metadata": {},
   "outputs": [
    {
     "data": {
      "text/plain": [
       "4"
      ]
     },
     "execution_count": 10,
     "metadata": {},
     "output_type": "execute_result"
    }
   ],
   "source": [
    "FuzzyEncoding(1, 2, 3)"
   ]
  },
  {
   "cell_type": "code",
   "execution_count": 11,
   "id": "e97eff77-7e3c-4518-bb9e-b3e0ce64875e",
   "metadata": {},
   "outputs": [
    {
     "data": {
      "text/plain": [
       "3"
      ]
     },
     "execution_count": 11,
     "metadata": {},
     "output_type": "execute_result"
    }
   ],
   "source": [
    "FuzzyEncoding(1, 1, 3)"
   ]
  },
  {
   "cell_type": "code",
   "execution_count": 12,
   "id": "d88e6a2f-8f85-4580-acff-6dec068935ac",
   "metadata": {},
   "outputs": [
    {
     "data": {
      "text/plain": [
       "2"
      ]
     },
     "execution_count": 12,
     "metadata": {},
     "output_type": "execute_result"
    }
   ],
   "source": [
    "FuzzyEncoding(3, 2, 4)"
   ]
  },
  {
   "cell_type": "code",
   "execution_count": 13,
   "id": "cbc24203-9767-4c27-993e-21dd455b43e7",
   "metadata": {},
   "outputs": [
    {
     "data": {
      "text/plain": [
       "1"
      ]
     },
     "execution_count": 13,
     "metadata": {},
     "output_type": "execute_result"
    }
   ],
   "source": [
    "FuzzyEncoding(5, 2, 3)"
   ]
  },
  {
   "cell_type": "markdown",
   "id": "55e8646e-0955-469b-846f-03f8d22cc510",
   "metadata": {},
   "source": [
    "# MATH"
   ]
  },
  {
   "cell_type": "code",
   "execution_count": 6,
   "id": "f6de89d3-42bd-43fd-b360-52a70f4ed1bc",
   "metadata": {},
   "outputs": [
    {
     "name": "stdout",
     "output_type": "stream",
     "text": [
      "Help on built-in module math:\n",
      "\n",
      "NAME\n",
      "    math\n",
      "\n",
      "DESCRIPTION\n",
      "    This module provides access to the mathematical functions\n",
      "    defined by the C standard.\n",
      "\n",
      "FUNCTIONS\n",
      "    acos(x, /)\n",
      "        Return the arc cosine (measured in radians) of x.\n",
      "    \n",
      "    acosh(x, /)\n",
      "        Return the inverse hyperbolic cosine of x.\n",
      "    \n",
      "    asin(x, /)\n",
      "        Return the arc sine (measured in radians) of x.\n",
      "    \n",
      "    asinh(x, /)\n",
      "        Return the inverse hyperbolic sine of x.\n",
      "    \n",
      "    atan(x, /)\n",
      "        Return the arc tangent (measured in radians) of x.\n",
      "    \n",
      "    atan2(y, x, /)\n",
      "        Return the arc tangent (measured in radians) of y/x.\n",
      "        \n",
      "        Unlike atan(y/x), the signs of both x and y are considered.\n",
      "    \n",
      "    atanh(x, /)\n",
      "        Return the inverse hyperbolic tangent of x.\n",
      "    \n",
      "    ceil(x, /)\n",
      "        Return the ceiling of x as an Integral.\n",
      "        \n",
      "        This is the smallest integer >= x.\n",
      "    \n",
      "    comb(n, k, /)\n",
      "        Number of ways to choose k items from n items without repetition and without order.\n",
      "        \n",
      "        Evaluates to n! / (k! * (n - k)!) when k <= n and evaluates\n",
      "        to zero when k > n.\n",
      "        \n",
      "        Also called the binomial coefficient because it is equivalent\n",
      "        to the coefficient of k-th term in polynomial expansion of the\n",
      "        expression (1 + x)**n.\n",
      "        \n",
      "        Raises TypeError if either of the arguments are not integers.\n",
      "        Raises ValueError if either of the arguments are negative.\n",
      "    \n",
      "    copysign(x, y, /)\n",
      "        Return a float with the magnitude (absolute value) of x but the sign of y.\n",
      "        \n",
      "        On platforms that support signed zeros, copysign(1.0, -0.0)\n",
      "        returns -1.0.\n",
      "    \n",
      "    cos(x, /)\n",
      "        Return the cosine of x (measured in radians).\n",
      "    \n",
      "    cosh(x, /)\n",
      "        Return the hyperbolic cosine of x.\n",
      "    \n",
      "    degrees(x, /)\n",
      "        Convert angle x from radians to degrees.\n",
      "    \n",
      "    dist(p, q, /)\n",
      "        Return the Euclidean distance between two points p and q.\n",
      "        \n",
      "        The points should be specified as sequences (or iterables) of\n",
      "        coordinates.  Both inputs must have the same dimension.\n",
      "        \n",
      "        Roughly equivalent to:\n",
      "            sqrt(sum((px - qx) ** 2.0 for px, qx in zip(p, q)))\n",
      "    \n",
      "    erf(x, /)\n",
      "        Error function at x.\n",
      "    \n",
      "    erfc(x, /)\n",
      "        Complementary error function at x.\n",
      "    \n",
      "    exp(x, /)\n",
      "        Return e raised to the power of x.\n",
      "    \n",
      "    expm1(x, /)\n",
      "        Return exp(x)-1.\n",
      "        \n",
      "        This function avoids the loss of precision involved in the direct evaluation of exp(x)-1 for small x.\n",
      "    \n",
      "    fabs(x, /)\n",
      "        Return the absolute value of the float x.\n",
      "    \n",
      "    factorial(x, /)\n",
      "        Find x!.\n",
      "        \n",
      "        Raise a ValueError if x is negative or non-integral.\n",
      "    \n",
      "    floor(x, /)\n",
      "        Return the floor of x as an Integral.\n",
      "        \n",
      "        This is the largest integer <= x.\n",
      "    \n",
      "    fmod(x, y, /)\n",
      "        Return fmod(x, y), according to platform C.\n",
      "        \n",
      "        x % y may differ.\n",
      "    \n",
      "    frexp(x, /)\n",
      "        Return the mantissa and exponent of x, as pair (m, e).\n",
      "        \n",
      "        m is a float and e is an int, such that x = m * 2.**e.\n",
      "        If x is 0, m and e are both 0.  Else 0.5 <= abs(m) < 1.0.\n",
      "    \n",
      "    fsum(seq, /)\n",
      "        Return an accurate floating point sum of values in the iterable seq.\n",
      "        \n",
      "        Assumes IEEE-754 floating point arithmetic.\n",
      "    \n",
      "    gamma(x, /)\n",
      "        Gamma function at x.\n",
      "    \n",
      "    gcd(x, y, /)\n",
      "        greatest common divisor of x and y\n",
      "    \n",
      "    hypot(...)\n",
      "        hypot(*coordinates) -> value\n",
      "        \n",
      "        Multidimensional Euclidean distance from the origin to a point.\n",
      "        \n",
      "        Roughly equivalent to:\n",
      "            sqrt(sum(x**2 for x in coordinates))\n",
      "        \n",
      "        For a two dimensional point (x, y), gives the hypotenuse\n",
      "        using the Pythagorean theorem:  sqrt(x*x + y*y).\n",
      "        \n",
      "        For example, the hypotenuse of a 3/4/5 right triangle is:\n",
      "        \n",
      "            >>> hypot(3.0, 4.0)\n",
      "            5.0\n",
      "    \n",
      "    isclose(a, b, *, rel_tol=1e-09, abs_tol=0.0)\n",
      "        Determine whether two floating point numbers are close in value.\n",
      "        \n",
      "          rel_tol\n",
      "            maximum difference for being considered \"close\", relative to the\n",
      "            magnitude of the input values\n",
      "          abs_tol\n",
      "            maximum difference for being considered \"close\", regardless of the\n",
      "            magnitude of the input values\n",
      "        \n",
      "        Return True if a is close in value to b, and False otherwise.\n",
      "        \n",
      "        For the values to be considered close, the difference between them\n",
      "        must be smaller than at least one of the tolerances.\n",
      "        \n",
      "        -inf, inf and NaN behave similarly to the IEEE 754 Standard.  That\n",
      "        is, NaN is not close to anything, even itself.  inf and -inf are\n",
      "        only close to themselves.\n",
      "    \n",
      "    isfinite(x, /)\n",
      "        Return True if x is neither an infinity nor a NaN, and False otherwise.\n",
      "    \n",
      "    isinf(x, /)\n",
      "        Return True if x is a positive or negative infinity, and False otherwise.\n",
      "    \n",
      "    isnan(x, /)\n",
      "        Return True if x is a NaN (not a number), and False otherwise.\n",
      "    \n",
      "    isqrt(n, /)\n",
      "        Return the integer part of the square root of the input.\n",
      "    \n",
      "    ldexp(x, i, /)\n",
      "        Return x * (2**i).\n",
      "        \n",
      "        This is essentially the inverse of frexp().\n",
      "    \n",
      "    lgamma(x, /)\n",
      "        Natural logarithm of absolute value of Gamma function at x.\n",
      "    \n",
      "    log(...)\n",
      "        log(x, [base=math.e])\n",
      "        Return the logarithm of x to the given base.\n",
      "        \n",
      "        If the base not specified, returns the natural logarithm (base e) of x.\n",
      "    \n",
      "    log10(x, /)\n",
      "        Return the base 10 logarithm of x.\n",
      "    \n",
      "    log1p(x, /)\n",
      "        Return the natural logarithm of 1+x (base e).\n",
      "        \n",
      "        The result is computed in a way which is accurate for x near zero.\n",
      "    \n",
      "    log2(x, /)\n",
      "        Return the base 2 logarithm of x.\n",
      "    \n",
      "    modf(x, /)\n",
      "        Return the fractional and integer parts of x.\n",
      "        \n",
      "        Both results carry the sign of x and are floats.\n",
      "    \n",
      "    perm(n, k=None, /)\n",
      "        Number of ways to choose k items from n items without repetition and with order.\n",
      "        \n",
      "        Evaluates to n! / (n - k)! when k <= n and evaluates\n",
      "        to zero when k > n.\n",
      "        \n",
      "        If k is not specified or is None, then k defaults to n\n",
      "        and the function returns n!.\n",
      "        \n",
      "        Raises TypeError if either of the arguments are not integers.\n",
      "        Raises ValueError if either of the arguments are negative.\n",
      "    \n",
      "    pow(x, y, /)\n",
      "        Return x**y (x to the power of y).\n",
      "    \n",
      "    prod(iterable, /, *, start=1)\n",
      "        Calculate the product of all the elements in the input iterable.\n",
      "        \n",
      "        The default start value for the product is 1.\n",
      "        \n",
      "        When the iterable is empty, return the start value.  This function is\n",
      "        intended specifically for use with numeric values and may reject\n",
      "        non-numeric types.\n",
      "    \n",
      "    radians(x, /)\n",
      "        Convert angle x from degrees to radians.\n",
      "    \n",
      "    remainder(x, y, /)\n",
      "        Difference between x and the closest integer multiple of y.\n",
      "        \n",
      "        Return x - n*y where n*y is the closest integer multiple of y.\n",
      "        In the case where x is exactly halfway between two multiples of\n",
      "        y, the nearest even value of n is used. The result is always exact.\n",
      "    \n",
      "    sin(x, /)\n",
      "        Return the sine of x (measured in radians).\n",
      "    \n",
      "    sinh(x, /)\n",
      "        Return the hyperbolic sine of x.\n",
      "    \n",
      "    sqrt(x, /)\n",
      "        Return the square root of x.\n",
      "    \n",
      "    tan(x, /)\n",
      "        Return the tangent of x (measured in radians).\n",
      "    \n",
      "    tanh(x, /)\n",
      "        Return the hyperbolic tangent of x.\n",
      "    \n",
      "    trunc(x, /)\n",
      "        Truncates the Real x to the nearest Integral toward 0.\n",
      "        \n",
      "        Uses the __trunc__ magic method.\n",
      "\n",
      "DATA\n",
      "    e = 2.718281828459045\n",
      "    inf = inf\n",
      "    nan = nan\n",
      "    pi = 3.141592653589793\n",
      "    tau = 6.283185307179586\n",
      "\n",
      "FILE\n",
      "    (built-in)\n",
      "\n",
      "\n"
     ]
    }
   ],
   "source": [
    "import math\n",
    "help(math)"
   ]
  },
  {
   "cell_type": "code",
   "execution_count": 4,
   "id": "9552b30a-d9ab-4a67-8b55-7ef25799a77f",
   "metadata": {},
   "outputs": [
    {
     "data": {
      "text/plain": [
       "-0.6536436208636119"
      ]
     },
     "execution_count": 4,
     "metadata": {},
     "output_type": "execute_result"
    }
   ],
   "source": [
    "math.cos(4)"
   ]
  },
  {
   "cell_type": "code",
   "execution_count": 10,
   "id": "7659721a-9730-48c8-949a-99bde1aa1372",
   "metadata": {},
   "outputs": [
    {
     "data": {
      "text/plain": [
       "93326215443944152681699238856266700490715968264381621468592963895217599993229915608941463976156518286253697920827223758251185210916864000000000000000000000000"
      ]
     },
     "execution_count": 10,
     "metadata": {},
     "output_type": "execute_result"
    }
   ],
   "source": [
    "math.factorial(100)"
   ]
  },
  {
   "cell_type": "code",
   "execution_count": 13,
   "id": "69dd023f-ebaa-4afc-a919-011ccda67c2c",
   "metadata": {},
   "outputs": [
    {
     "data": {
      "text/plain": [
       "2"
      ]
     },
     "execution_count": 13,
     "metadata": {},
     "output_type": "execute_result"
    }
   ],
   "source": [
    "math.ceil(1.3)"
   ]
  },
  {
   "cell_type": "code",
   "execution_count": 17,
   "id": "2fc32e56-a45e-436c-b3bc-23cd3accfc69",
   "metadata": {},
   "outputs": [
    {
     "data": {
      "text/plain": [
       "3.141592653589793"
      ]
     },
     "execution_count": 17,
     "metadata": {},
     "output_type": "execute_result"
    }
   ],
   "source": [
    "math.radians(180)"
   ]
  },
  {
   "cell_type": "code",
   "execution_count": 25,
   "id": "4f8b4970-c341-4bc1-9f1a-eaa0566c9ae4",
   "metadata": {},
   "outputs": [
    {
     "data": {
      "text/plain": [
       "180.0"
      ]
     },
     "execution_count": 25,
     "metadata": {},
     "output_type": "execute_result"
    }
   ],
   "source": [
    "math.degrees(math.pi)"
   ]
  },
  {
   "cell_type": "code",
   "execution_count": 7,
   "id": "1cb5290b-a662-41c8-8aa8-a39d4aa3acfd",
   "metadata": {},
   "outputs": [
    {
     "data": {
      "text/plain": [
       "(0.5, 5.0)"
      ]
     },
     "execution_count": 7,
     "metadata": {},
     "output_type": "execute_result"
    }
   ],
   "source": [
    "math.modf(5.5)"
   ]
  }
 ],
 "metadata": {
  "kernelspec": {
   "display_name": "Python 3",
   "language": "python",
   "name": "python3"
  },
  "language_info": {
   "codemirror_mode": {
    "name": "ipython",
    "version": 3
   },
   "file_extension": ".py",
   "mimetype": "text/x-python",
   "name": "python",
   "nbconvert_exporter": "python",
   "pygments_lexer": "ipython3",
   "version": "3.8.8"
  }
 },
 "nbformat": 4,
 "nbformat_minor": 5
}
